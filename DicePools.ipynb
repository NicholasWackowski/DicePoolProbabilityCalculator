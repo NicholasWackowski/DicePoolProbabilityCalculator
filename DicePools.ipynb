{
 "cells": [
  {
   "cell_type": "code",
   "execution_count": 2,
   "metadata": {},
   "outputs": [],
   "source": [
    "# Nicholas Wackowski, 7/6/2020\n",
    "# A program to calculate the likelihood of rolling x successes of P(x) chance given y events\n",
    "\n"
   ]
  },
  {
   "cell_type": "code",
   "execution_count": 45,
   "metadata": {},
   "outputs": [],
   "source": [
    "# Below code was taken from StackOverflow user dheerosaur and l3viathan\n",
    "# https://stackoverflow.com/questions/4941753/is-there-a-math-ncr-function-in-python\n",
    "\n",
    "# Call the function as \"of n possible choices, choose r\"\n",
    "import operator as op\n",
    "from functools import reduce\n",
    "\n",
    "def ncr(n, r):\n",
    "    r = min(r, n-r)\n",
    "    numer = reduce(op.mul, range(n, n-r, -1), 1)\n",
    "    denom = reduce(op.mul, range(1, r+1), 1)\n",
    "    return numer // denom  # or / in Python 2\n",
    "\n"
   ]
  },
  {
   "cell_type": "code",
   "execution_count": 86,
   "metadata": {},
   "outputs": [],
   "source": [
    "# Iterates through all possible number of successes and sums their likelihoods,\n",
    "# thereby returning the total chance the dice will hit the target number of\n",
    "# successes OR greater.\n",
    "# numTrials = int, how many dice/opportunities for success there are\n",
    "# difficulty = int, the minimum number which must be rolled (out of 10) for success\n",
    "# numSuccesses = int, the minimum number of successes desired\n",
    "def totalProb(numTrials, difficulty, numSuccesses):\n",
    "    probSuccess = calculateProbSuccess(difficulty)\n",
    "    total = 0\n",
    "    for x in range(numSuccesses, numTrials+1):\n",
    "        total += calcProbability(numTrials, probSuccess, x)\n",
    "    return total\n",
    "\n",
    "# Calculates the percent chance of success based on how many dice are being\n",
    "# rolled and how likely each die is to be successful\n",
    "# numTrials = int, how many dice/opportunities for success there are\n",
    "# probSuccess = float, percent chance of success\n",
    "# numSuccesses = int, the minimum number of successes desired\n",
    "def calcProbability(numTrials, probSuccess, numSuccesses):\n",
    "    return ( ncr(numTrials, numSuccesses) * (probSuccess**numSuccesses) \n",
    "            * ((1-probSuccess)**(numTrials-numSuccesses)) )\n",
    "\n",
    "# Calculates the percent chance of success\n",
    "# difficulty = int, a number from 1-10. Minimum number which needs to be rolled for success.\n",
    "def calculateProbSuccess(difficulty):\n",
    "    return 1 - (difficulty-1)/10\n",
    "\n"
   ]
  },
  {
   "cell_type": "code",
   "execution_count": 95,
   "metadata": {},
   "outputs": [
    {
     "name": "stdout",
     "output_type": "stream",
     "text": [
      "0.5\n"
     ]
    }
   ],
   "source": [
    "def main():\n",
    "    dicePool = 5\n",
    "    difficulty = 6\n",
    "    numSuccesses = 3\n",
    "\n",
    "    probability = totalProb(numTrials=dicePool, difficulty=difficulty, numSuccesses=numSuccesses)\n",
    "    print(probability)\n",
    "main()"
   ]
  },
  {
   "cell_type": "code",
   "execution_count": null,
   "metadata": {},
   "outputs": [],
   "source": []
  }
 ],
 "metadata": {
  "kernelspec": {
   "display_name": "Python 3",
   "language": "python",
   "name": "python3"
  },
  "language_info": {
   "codemirror_mode": {
    "name": "ipython",
    "version": 3
   },
   "file_extension": ".py",
   "mimetype": "text/x-python",
   "name": "python",
   "nbconvert_exporter": "python",
   "pygments_lexer": "ipython3",
   "version": "3.7.4"
  }
 },
 "nbformat": 4,
 "nbformat_minor": 2
}
